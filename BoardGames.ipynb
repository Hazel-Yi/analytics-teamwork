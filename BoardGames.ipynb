{
 "cells": [
  {
   "cell_type": "code",
   "execution_count": 125,
   "metadata": {},
   "outputs": [],
   "source": [
    "import pandas as pd\n",
    "from fastai.collab import *\n",
    "from sklearn.neighbors import NearestNeighbors\n",
    "import json\n"
   ]
  },
  {
   "cell_type": "code",
   "execution_count": 124,
   "metadata": {},
   "outputs": [],
   "source": [
    "# Import List of Games\n",
    "gamelist_filename = '2019-05-02.csv'\n",
    "reviewlist_filename = 'bgg-13m-reviews.csv'\n",
    "recommendation_export_filename = 'recommendations.json'"
   ]
  },
  {
   "cell_type": "code",
   "execution_count": 113,
   "metadata": {},
   "outputs": [],
   "source": [
    "games = pd.read_csv(gamelist_filename)\n",
    "# games.describe()\n",
    "games.sort_values('Users rated',ascending=False,inplace=True)\n",
    "games.rename(index=str, columns={\"Bayes average\": \"Geekscore\",'Name':'name'}, inplace=True)"
   ]
  },
  {
   "cell_type": "code",
   "execution_count": 8,
   "metadata": {},
   "outputs": [
    {
     "name": "stderr",
     "output_type": "stream",
     "text": [
      "C:\\Users\\Jerry\\Anaconda3\\lib\\site-packages\\numpy\\lib\\arraysetops.py:568: FutureWarning: elementwise comparison failed; returning scalar instead, but in the future will perform elementwise comparison\n",
      "  mask |= (ar1 == a)\n"
     ]
    }
   ],
   "source": [
    "# Import Reviews\n",
    "reviews = pd.read_csv('bgg-13m-reviews.csv', index_col = 0);"
   ]
  },
  {
   "cell_type": "code",
   "execution_count": 9,
   "metadata": {},
   "outputs": [],
   "source": [
    "reviews.head();"
   ]
  },
  {
   "cell_type": "code",
   "execution_count": 12,
   "metadata": {},
   "outputs": [],
   "source": [
    "# Create a Data Bunch, a data object used by the learner\n",
    "data = CollabDataBunch.from_df(reviews, user_name='user', item_name='name', rating_name='rating', seed=42)\n",
    "# data.show_batch()"
   ]
  },
  {
   "cell_type": "markdown",
   "metadata": {},
   "source": [
    "## EmbeddingDotBias Model"
   ]
  },
  {
   "cell_type": "code",
   "execution_count": 130,
   "metadata": {},
   "outputs": [
    {
     "name": "stdout",
     "output_type": "stream",
     "text": [
      "EmbeddingDotBias\n",
      "======================================================================\n",
      "Layer (type)         Output Shape         Param #    Trainable \n",
      "======================================================================\n",
      "Embedding            [50]                 13,926,300 True      \n",
      "______________________________________________________________________\n",
      "Embedding            [50]                 836,800    True      \n",
      "______________________________________________________________________\n",
      "Embedding            [1]                  278,526    True      \n",
      "______________________________________________________________________\n",
      "Embedding            [1]                  16,736     True      \n",
      "______________________________________________________________________\n",
      "\n",
      "Total params: 15,058,362\n",
      "Total trainable params: 15,058,362\n",
      "Total non-trainable params: 0\n",
      "Optimized with 'torch.optim.adam.Adam', betas=(0.9, 0.99)\n",
      "Using true weight decay as discussed in https://www.fast.ai/2018/07/02/adam-weight-decay/ \n",
      "Loss function : FlattenedLoss\n",
      "======================================================================\n",
      "Callbacks functions applied \n",
      "\n"
     ]
    }
   ],
   "source": [
    "\n",
    "def createDotBiasLearner(data, n_weights = 50, y_range=None):\n",
    "    learner = collab_learner(data, n_factors=n_weights, y_range=y_range)\n",
    "    print(learner.summary())\n",
    "    return learner\n",
    "\n",
    "def plotLearningRateVsLoss(learner):\n",
    "    lr_find(learner)\n",
    "    learner.recorder.plot()\n",
    "\n",
    "learner = createDotBiasLearner(data, n_weights=50, y_range=(2.,10))"
   ]
  },
  {
   "cell_type": "code",
   "execution_count": 19,
   "metadata": {},
   "outputs": [
    {
     "data": {
      "text/html": [],
      "text/plain": [
       "<IPython.core.display.HTML object>"
      ]
     },
     "metadata": {},
     "output_type": "display_data"
    },
    {
     "name": "stdout",
     "output_type": "stream",
     "text": [
      "LR Finder is complete, type {learner_name}.recorder.plot() to see the graph.\n"
     ]
    }
   ],
   "source": [
    "# Find a good learning rate\n",
    "lr_find(learner)"
   ]
  },
  {
   "cell_type": "code",
   "execution_count": 12,
   "metadata": {},
   "outputs": [
    {
     "data": {
      "image/png": "[encoded data removed]",
      "text/plain": [
       "<Figure size 432x288 with 1 Axes>"
      ]
     },
     "metadata": {
      "needs_background": "light"
     },
     "output_type": "display_data"
    }
   ],
   "source": [
    "# learner.recorder.plot()"
   ]
  },
  {
   "cell_type": "code",
   "execution_count": null,
   "metadata": {},
   "outputs": [
    {
     "data": {
      "text/html": [
       "\n",
       "    <div>\n",
       "        <style>\n",
       "            /* Turns off some styling */\n",
       "            progress {\n",
       "                /* gets rid of default border in Firefox and Opera. */\n",
       "                border: none;\n",
       "                /* Needs to be in here for Safari polyfill so background images work as expected. */\n",
       "                background-size: auto;\n",
       "            }\n",
       "            .progress-bar-interrupted, .progress-bar-interrupted::-webkit-progress-bar {\n",
       "                background: #F44336;\n",
       "            }\n",
       "        </style>\n",
       "      <progress value='1' class='' max='5', style='width:300px; height:20px; vertical-align: middle;'></progress>\n",
       "      20.00% [1/5 23:25<1:33:40]\n",
       "    </div>\n",
       "    \n",
       "<table border=\"1\" class=\"dataframe\">\n",
       "  <thead>\n",
       "    <tr style=\"text-align: left;\">\n",
       "      <th>epoch</th>\n",
       "      <th>train_loss</th>\n",
       "      <th>valid_loss</th>\n",
       "      <th>time</th>\n",
       "    </tr>\n",
       "  </thead>\n",
       "  <tbody>\n",
       "    <tr>\n",
       "      <td>0</td>\n",
       "      <td>2.231084</td>\n",
       "      <td>2.189549</td>\n",
       "      <td>23:25</td>\n",
       "    </tr>\n",
       "  </tbody>\n",
       "</table><p>\n",
       "\n",
       "    <div>\n",
       "        <style>\n",
       "            /* Turns off some styling */\n",
       "            progress {\n",
       "                /* gets rid of default border in Firefox and Opera. */\n",
       "                border: none;\n",
       "                /* Needs to be in here for Safari polyfill so background images work as expected. */\n",
       "                background-size: auto;\n",
       "            }\n",
       "            .progress-bar-interrupted, .progress-bar-interrupted::-webkit-progress-bar {\n",
       "                background: #F44336;\n",
       "            }\n",
       "        </style>\n",
       "      <progress value='0' class='' max='164625', style='width:300px; height:20px; vertical-align: middle;'></progress>\n",
       "      0.00% [0/164625 00:00<00:00]\n",
       "    </div>\n",
       "    "
      ],
      "text/plain": [
       "<IPython.core.display.HTML object>"
      ]
     },
     "metadata": {},
     "output_type": "display_data"
    }
   ],
   "source": [
    "learner.fit_one_cycle(5, 1e-2, wd=0.10)\n"
   ]
  },
  {
   "cell_type": "code",
   "execution_count": 46,
   "metadata": {},
   "outputs": [],
   "source": [
    "# learner.save(\"trained_model\", return_path=True)\n",
    "learner.load(\"trained_model\");"
   ]
  },
  {
   "cell_type": "code",
   "execution_count": 16,
   "metadata": {},
   "outputs": [
    {
     "data": {
      "text/plain": [
       "EmbeddingDotBias(\n",
       "  (u_weight): Embedding(278526, 50)\n",
       "  (i_weight): Embedding(16736, 50)\n",
       "  (u_bias): Embedding(278526, 1)\n",
       "  (i_bias): Embedding(16736, 1)\n",
       ")"
      ]
     },
     "execution_count": 16,
     "metadata": {},
     "output_type": "execute_result"
    }
   ],
   "source": [
    "learner.model"
   ]
  },
  {
   "cell_type": "code",
   "execution_count": 22,
   "metadata": {},
   "outputs": [
    {
     "ename": "AttributeError",
     "evalue": "'CollabLearner' object has no attribute 'recorder'",
     "output_type": "error",
     "traceback": [
      "\u001b[1;31m---------------------------------------------------------------------------\u001b[0m",
      "\u001b[1;31mAttributeError\u001b[0m                            Traceback (most recent call last)",
      "\u001b[1;32m<ipython-input-22-e1dde7c75373>\u001b[0m in \u001b[0;36m<module>\u001b[1;34m\u001b[0m\n\u001b[1;32m----> 1\u001b[1;33m \u001b[0mlearner\u001b[0m\u001b[1;33m.\u001b[0m\u001b[0mrecorder\u001b[0m\u001b[1;33m.\u001b[0m\u001b[0mplot_losses\u001b[0m\u001b[1;33m(\u001b[0m\u001b[1;33m)\u001b[0m\u001b[1;33m\u001b[0m\u001b[1;33m\u001b[0m\u001b[0m\n\u001b[0m",
      "\u001b[1;31mAttributeError\u001b[0m: 'CollabLearner' object has no attribute 'recorder'"
     ]
    }
   ],
   "source": [
    "# learner.recorder.plot_losses()"
   ]
  },
  {
   "cell_type": "markdown",
   "metadata": {},
   "source": [
    "## Find Similar Games"
   ]
  },
  {
   "cell_type": "code",
   "execution_count": 65,
   "metadata": {},
   "outputs": [],
   "source": [
    "# Want games with at least 50 reviews"
   ]
  },
  {
   "cell_type": "code",
   "execution_count": 41,
   "metadata": {},
   "outputs": [],
   "source": [
    "# Group the reviews by game, get the rating column and aggregate each group by with its mean and count\n",
    "games_by_all_users = reviews.groupby('name')['rating'].agg(['mean','count'])\n",
    "games_by_all_users.sort_values('mean',ascending=False, inplace=True)\n",
    "\n",
    "# Get Top Games\n",
    "top_games = games_by_all_users[games_by_all_users['count']>100].sort_values('mean',ascending=False).index\n",
    "game_indexes = games_by_all_users.index\n",
    "mean_ratings = reviews.groupby('name')['rating'].mean().round(2)"
   ]
  },
  {
   "cell_type": "code",
   "execution_count": 35,
   "metadata": {},
   "outputs": [
    {
     "name": "stdout",
     "output_type": "stream",
     "text": [
      "9196\n"
     ]
    }
   ],
   "source": [
    "print(len(top_games)) # There are 13107 games with at least 50 reviews"
   ]
  },
  {
   "cell_type": "code",
   "execution_count": 49,
   "metadata": {},
   "outputs": [],
   "source": [
    "top_game_bias = learner.bias(top_games, is_item=True)\n",
    "all_game_bias = learner.bias(game_indexes, is_item=True)"
   ]
  },
  {
   "cell_type": "code",
   "execution_count": 30,
   "metadata": {},
   "outputs": [],
   "source": [
    "shapemean_ratings = reviews.groupby('name')['rating'].mean()"
   ]
  },
  {
   "cell_type": "code",
   "execution_count": 36,
   "metadata": {},
   "outputs": [],
   "source": [
    "game_ratings = [(b, i, mean_ratings.loc[i]) for i,b in zip(top_games,game_bias)]"
   ]
  },
  {
   "cell_type": "code",
   "execution_count": 57,
   "metadata": {},
   "outputs": [],
   "source": [
    "game_weights = learner.weight(game_indexes, is_item=True)\n",
    "game_weights.shape\n",
    "game_pca = game_weights.pca(3)\n",
    "game_pca.shape\n",
    "game_np_weights = game_pca.numpy()\n",
    "game_np_weights\n",
    "game_weights = game_weights.numpy()"
   ]
  },
  {
   "cell_type": "code",
   "execution_count": 62,
   "metadata": {},
   "outputs": [],
   "source": [
    "nn = NearestNeighbors(n_neighbors=len(game_indexes))\n",
    "fitnn = nn.fit(game_np_weights)"
   ]
  },
  {
   "cell_type": "code",
   "execution_count": 55,
   "metadata": {},
   "outputs": [],
   "source": [
    "distance, neighbours = fitnn.kneighbors(X=[game_np_weights[1]], n_neighbors=5)"
   ]
  },
  {
   "cell_type": "code",
   "execution_count": 115,
   "metadata": {},
   "outputs": [],
   "source": [
    "def getRecommendations( game, n_recommendations):\n",
    "    distance, neighbours = fitnn.kneighbors(X=[game_np_weights[game]], n_neighbors=n_recommendations + 1)\n",
    "    recommend_list=[]\n",
    "    for i,value in enumerate(neighbours, start=0):\n",
    "#         print(game_indexes[value], distance[i])\n",
    "        recommend_list.append(game_indexes[value])\n",
    "    return recommend_list[0].to_list()"
   ]
  },
  {
   "cell_type": "code",
   "execution_count": 118,
   "metadata": {},
   "outputs": [
    {
     "data": {
      "text/plain": [
       "['Animator vs Animation',\n",
       " 'Zero Hour: Survival Horror Card Game',\n",
       " 'Qwarks',\n",
       " 'Enigmàrius',\n",
       " 'Jungli-La',\n",
       " 'Hypnose',\n",
       " 'Grand National',\n",
       " 'The Old Contemptibles',\n",
       " \"The Coin Tribes' Revolt: Boudica's Rebellion Against Rome\",\n",
       " 'Spiel mit Lukas: Dribbel-Fieber',\n",
       " 'NUTS!']"
      ]
     },
     "execution_count": 118,
     "metadata": {},
     "output_type": "execute_result"
    }
   ],
   "source": [
    "recommend_list = getRecommendations(1, 10)\n",
    "recommend_list"
   ]
  },
  {
   "cell_type": "code",
   "execution_count": 128,
   "metadata": {},
   "outputs": [],
   "source": [
    "def exportRecommendationList( output_file, game_index, num_recommendations ):\n",
    "    game_recommendations_map = {}\n",
    "    \n",
    "    for i in range(len(game_index)):\n",
    "        result = getRecommendations( i , num_recommendations )\n",
    "        game_recommendations_map[result[0]] = result[1:]\n",
    "        \n",
    "    with open( output_file, 'w') as fp:\n",
    "        json.dump(game_recommendations_map, fp)\n",
    "        \n",
    "    return game_recommendations_map\n",
    "\n",
    "game_map = exportRecommendationList( recommendation_export_filename, game_indexes, 21 )"
   ]
  },
  {
   "cell_type": "code",
   "execution_count": 120,
   "metadata": {},
   "outputs": [
    {
     "data": {
      "text/html": [
       "<div>\n",
       "<style scoped>\n",
       "    .dataframe tbody tr th:only-of-type {\n",
       "        vertical-align: middle;\n",
       "    }\n",
       "\n",
       "    .dataframe tbody tr th {\n",
       "        vertical-align: top;\n",
       "    }\n",
       "\n",
       "    .dataframe thead th {\n",
       "        text-align: right;\n",
       "    }\n",
       "</style>\n",
       "<table border=\"1\" class=\"dataframe\">\n",
       "  <thead>\n",
       "    <tr style=\"text-align: right;\">\n",
       "      <th></th>\n",
       "      <th>ID</th>\n",
       "      <th>Year</th>\n",
       "      <th>Rank</th>\n",
       "      <th>Average</th>\n",
       "      <th>Geekscore</th>\n",
       "      <th>Users rated</th>\n",
       "      <th>URL</th>\n",
       "      <th>Thumbnail</th>\n",
       "    </tr>\n",
       "    <tr>\n",
       "      <th>name</th>\n",
       "      <th></th>\n",
       "      <th></th>\n",
       "      <th></th>\n",
       "      <th></th>\n",
       "      <th></th>\n",
       "      <th></th>\n",
       "      <th></th>\n",
       "      <th></th>\n",
       "    </tr>\n",
       "  </thead>\n",
       "  <tbody>\n",
       "    <tr>\n",
       "      <th>Animator vs Animation</th>\n",
       "      <td>236332</td>\n",
       "      <td>2018</td>\n",
       "      <td>12984</td>\n",
       "      <td>9.59</td>\n",
       "      <td>5.510</td>\n",
       "      <td>34</td>\n",
       "      <td>/boardgame/236332/animator-vs-animation</td>\n",
       "      <td>https://cf.geekdo-images.com/micro/img/IOahMM3...</td>\n",
       "    </tr>\n",
       "    <tr>\n",
       "      <th>Zero Hour: Survival Horror Card Game</th>\n",
       "      <td>145764</td>\n",
       "      <td>2014</td>\n",
       "      <td>15463</td>\n",
       "      <td>4.73</td>\n",
       "      <td>5.479</td>\n",
       "      <td>36</td>\n",
       "      <td>/boardgame/145764/zero-hour-survival-horror-ca...</td>\n",
       "      <td>https://cf.geekdo-images.com/micro/img/nuaVB71...</td>\n",
       "    </tr>\n",
       "    <tr>\n",
       "      <th>Qwarks</th>\n",
       "      <td>222913</td>\n",
       "      <td>2017</td>\n",
       "      <td>10766</td>\n",
       "      <td>7.16</td>\n",
       "      <td>5.530</td>\n",
       "      <td>31</td>\n",
       "      <td>/boardgame/222913/qwarks</td>\n",
       "      <td>https://cf.geekdo-images.com/micro/img/YI1_7t-...</td>\n",
       "    </tr>\n",
       "    <tr>\n",
       "      <th>Enigmàrius</th>\n",
       "      <td>152824</td>\n",
       "      <td>2013</td>\n",
       "      <td>11373</td>\n",
       "      <td>6.55</td>\n",
       "      <td>5.524</td>\n",
       "      <td>33</td>\n",
       "      <td>/boardgame/152824/enigmarius</td>\n",
       "      <td>https://cf.geekdo-images.com/micro/img/FnHRA6s...</td>\n",
       "    </tr>\n",
       "    <tr>\n",
       "      <th>Jungli-La</th>\n",
       "      <td>215154</td>\n",
       "      <td>2016</td>\n",
       "      <td>14399</td>\n",
       "      <td>5.39</td>\n",
       "      <td>5.495</td>\n",
       "      <td>55</td>\n",
       "      <td>/boardgame/215154/jungli-la</td>\n",
       "      <td>https://cf.geekdo-images.com/micro/img/ImtmvKk...</td>\n",
       "    </tr>\n",
       "    <tr>\n",
       "      <th>Hypnose</th>\n",
       "      <td>199247</td>\n",
       "      <td>2017</td>\n",
       "      <td>14968</td>\n",
       "      <td>4.88</td>\n",
       "      <td>5.487</td>\n",
       "      <td>31</td>\n",
       "      <td>/boardgame/199247/hypnose</td>\n",
       "      <td>https://cf.geekdo-images.com/micro/img/W9lPaZc...</td>\n",
       "    </tr>\n",
       "    <tr>\n",
       "      <th>Grand National</th>\n",
       "      <td>12111</td>\n",
       "      <td>2001</td>\n",
       "      <td>9931</td>\n",
       "      <td>7.18</td>\n",
       "      <td>5.538</td>\n",
       "      <td>33</td>\n",
       "      <td>/boardgame/12111/grand-national</td>\n",
       "      <td>https://cf.geekdo-images.com/micro/img/1paJePZ...</td>\n",
       "    </tr>\n",
       "    <tr>\n",
       "      <th>The Old Contemptibles</th>\n",
       "      <td>17430</td>\n",
       "      <td>2005</td>\n",
       "      <td>9080</td>\n",
       "      <td>6.87</td>\n",
       "      <td>5.548</td>\n",
       "      <td>47</td>\n",
       "      <td>/boardgame/17430/old-contemptibles</td>\n",
       "      <td>https://cf.geekdo-images.com/micro/img/elnjMpj...</td>\n",
       "    </tr>\n",
       "    <tr>\n",
       "      <th>The Coin Tribes' Revolt: Boudica's Rebellion Against Rome</th>\n",
       "      <td>251213</td>\n",
       "      <td>2018</td>\n",
       "      <td>9694</td>\n",
       "      <td>7.26</td>\n",
       "      <td>5.541</td>\n",
       "      <td>30</td>\n",
       "      <td>/boardgame/251213/coin-tribes-revolt-boudicas-...</td>\n",
       "      <td>https://cf.geekdo-images.com/micro/img/p3s_dDh...</td>\n",
       "    </tr>\n",
       "    <tr>\n",
       "      <th>Spiel mit Lukas: Dribbel-Fieber</th>\n",
       "      <td>66197</td>\n",
       "      <td>2010</td>\n",
       "      <td>11702</td>\n",
       "      <td>6.25</td>\n",
       "      <td>5.521</td>\n",
       "      <td>35</td>\n",
       "      <td>/boardgame/66197/spiel-mit-lukas-dribbel-fieber</td>\n",
       "      <td>https://cf.geekdo-images.com/micro/img/-_Q9TFw...</td>\n",
       "    </tr>\n",
       "    <tr>\n",
       "      <th>NUTS!</th>\n",
       "      <td>3265</td>\n",
       "      <td>1998</td>\n",
       "      <td>10200</td>\n",
       "      <td>6.07</td>\n",
       "      <td>5.535</td>\n",
       "      <td>99</td>\n",
       "      <td>/boardgame/3265/nuts</td>\n",
       "      <td>https://cf.geekdo-images.com/micro/img/EdykaC0...</td>\n",
       "    </tr>\n",
       "  </tbody>\n",
       "</table>\n",
       "</div>"
      ],
      "text/plain": [
       "                                                        ID  Year   Rank  \\\n",
       "name                                                                      \n",
       "Animator vs Animation                               236332  2018  12984   \n",
       "Zero Hour: Survival Horror Card Game                145764  2014  15463   \n",
       "Qwarks                                              222913  2017  10766   \n",
       "Enigmàrius                                          152824  2013  11373   \n",
       "Jungli-La                                           215154  2016  14399   \n",
       "Hypnose                                             199247  2017  14968   \n",
       "Grand National                                       12111  2001   9931   \n",
       "The Old Contemptibles                                17430  2005   9080   \n",
       "The Coin Tribes' Revolt: Boudica's Rebellion Ag...  251213  2018   9694   \n",
       "Spiel mit Lukas: Dribbel-Fieber                      66197  2010  11702   \n",
       "NUTS!                                                 3265  1998  10200   \n",
       "\n",
       "                                                    Average  Geekscore  \\\n",
       "name                                                                     \n",
       "Animator vs Animation                                  9.59      5.510   \n",
       "Zero Hour: Survival Horror Card Game                   4.73      5.479   \n",
       "Qwarks                                                 7.16      5.530   \n",
       "Enigmàrius                                             6.55      5.524   \n",
       "Jungli-La                                              5.39      5.495   \n",
       "Hypnose                                                4.88      5.487   \n",
       "Grand National                                         7.18      5.538   \n",
       "The Old Contemptibles                                  6.87      5.548   \n",
       "The Coin Tribes' Revolt: Boudica's Rebellion Ag...     7.26      5.541   \n",
       "Spiel mit Lukas: Dribbel-Fieber                        6.25      5.521   \n",
       "NUTS!                                                  6.07      5.535   \n",
       "\n",
       "                                                    Users rated  \\\n",
       "name                                                              \n",
       "Animator vs Animation                                        34   \n",
       "Zero Hour: Survival Horror Card Game                         36   \n",
       "Qwarks                                                       31   \n",
       "Enigmàrius                                                   33   \n",
       "Jungli-La                                                    55   \n",
       "Hypnose                                                      31   \n",
       "Grand National                                               33   \n",
       "The Old Contemptibles                                        47   \n",
       "The Coin Tribes' Revolt: Boudica's Rebellion Ag...           30   \n",
       "Spiel mit Lukas: Dribbel-Fieber                              35   \n",
       "NUTS!                                                        99   \n",
       "\n",
       "                                                                                                  URL  \\\n",
       "name                                                                                                    \n",
       "Animator vs Animation                                         /boardgame/236332/animator-vs-animation   \n",
       "Zero Hour: Survival Horror Card Game                /boardgame/145764/zero-hour-survival-horror-ca...   \n",
       "Qwarks                                                                       /boardgame/222913/qwarks   \n",
       "Enigmàrius                                                               /boardgame/152824/enigmarius   \n",
       "Jungli-La                                                                 /boardgame/215154/jungli-la   \n",
       "Hypnose                                                                     /boardgame/199247/hypnose   \n",
       "Grand National                                                        /boardgame/12111/grand-national   \n",
       "The Old Contemptibles                                              /boardgame/17430/old-contemptibles   \n",
       "The Coin Tribes' Revolt: Boudica's Rebellion Ag...  /boardgame/251213/coin-tribes-revolt-boudicas-...   \n",
       "Spiel mit Lukas: Dribbel-Fieber                       /boardgame/66197/spiel-mit-lukas-dribbel-fieber   \n",
       "NUTS!                                                                            /boardgame/3265/nuts   \n",
       "\n",
       "                                                                                            Thumbnail  \n",
       "name                                                                                                   \n",
       "Animator vs Animation                               https://cf.geekdo-images.com/micro/img/IOahMM3...  \n",
       "Zero Hour: Survival Horror Card Game                https://cf.geekdo-images.com/micro/img/nuaVB71...  \n",
       "Qwarks                                              https://cf.geekdo-images.com/micro/img/YI1_7t-...  \n",
       "Enigmàrius                                          https://cf.geekdo-images.com/micro/img/FnHRA6s...  \n",
       "Jungli-La                                           https://cf.geekdo-images.com/micro/img/ImtmvKk...  \n",
       "Hypnose                                             https://cf.geekdo-images.com/micro/img/W9lPaZc...  \n",
       "Grand National                                      https://cf.geekdo-images.com/micro/img/1paJePZ...  \n",
       "The Old Contemptibles                               https://cf.geekdo-images.com/micro/img/elnjMpj...  \n",
       "The Coin Tribes' Revolt: Boudica's Rebellion Ag...  https://cf.geekdo-images.com/micro/img/p3s_dDh...  \n",
       "Spiel mit Lukas: Dribbel-Fieber                     https://cf.geekdo-images.com/micro/img/-_Q9TFw...  \n",
       "NUTS!                                               https://cf.geekdo-images.com/micro/img/EdykaC0...  "
      ]
     },
     "execution_count": 120,
     "metadata": {},
     "output_type": "execute_result"
    }
   ],
   "source": [
    "#output the recommand list\n",
    "# games.set_index(\"name\",inplace =True)\n",
    "games.loc[recommend_list]"
   ]
  },
  {
   "cell_type": "markdown",
   "metadata": {},
   "source": [
    "### Exploration"
   ]
  },
  {
   "cell_type": "code",
   "execution_count": 14,
   "metadata": {},
   "outputs": [
    {
     "data": {
      "text/html": [
       "<div>\n",
       "<style scoped>\n",
       "    .dataframe tbody tr th:only-of-type {\n",
       "        vertical-align: middle;\n",
       "    }\n",
       "\n",
       "    .dataframe tbody tr th {\n",
       "        vertical-align: top;\n",
       "    }\n",
       "\n",
       "    .dataframe thead th {\n",
       "        text-align: right;\n",
       "    }\n",
       "</style>\n",
       "<table border=\"1\" class=\"dataframe\">\n",
       "  <thead>\n",
       "    <tr style=\"text-align: right;\">\n",
       "      <th></th>\n",
       "      <th>mean</th>\n",
       "      <th>count</th>\n",
       "    </tr>\n",
       "    <tr>\n",
       "      <th>name</th>\n",
       "      <th></th>\n",
       "      <th></th>\n",
       "    </tr>\n",
       "  </thead>\n",
       "  <tbody>\n",
       "    <tr>\n",
       "      <th>Limbo: Eternal War</th>\n",
       "      <td>9.597143</td>\n",
       "      <td>35</td>\n",
       "    </tr>\n",
       "    <tr>\n",
       "      <th>Animator vs Animation</th>\n",
       "      <td>9.588235</td>\n",
       "      <td>34</td>\n",
       "    </tr>\n",
       "    <tr>\n",
       "      <th>TerroriXico</th>\n",
       "      <td>9.428571</td>\n",
       "      <td>70</td>\n",
       "    </tr>\n",
       "    <tr>\n",
       "      <th>Arena: The Contest</th>\n",
       "      <td>9.409091</td>\n",
       "      <td>99</td>\n",
       "    </tr>\n",
       "    <tr>\n",
       "      <th>Court of the Dead: Mourners Call</th>\n",
       "      <td>9.333519</td>\n",
       "      <td>54</td>\n",
       "    </tr>\n",
       "    <tr>\n",
       "      <th>...</th>\n",
       "      <td>...</td>\n",
       "      <td>...</td>\n",
       "    </tr>\n",
       "    <tr>\n",
       "      <th>BreaKey</th>\n",
       "      <td>1.546279</td>\n",
       "      <td>43</td>\n",
       "    </tr>\n",
       "    <tr>\n",
       "      <th>Overturn: Rising Sands</th>\n",
       "      <td>1.455556</td>\n",
       "      <td>90</td>\n",
       "    </tr>\n",
       "    <tr>\n",
       "      <th>W.W.B</th>\n",
       "      <td>1.423384</td>\n",
       "      <td>43</td>\n",
       "    </tr>\n",
       "    <tr>\n",
       "      <th>Intelligent Design vs. Evolution</th>\n",
       "      <td>1.371186</td>\n",
       "      <td>59</td>\n",
       "    </tr>\n",
       "    <tr>\n",
       "      <th>Oneupmanship: Mine's Bigger</th>\n",
       "      <td>1.052542</td>\n",
       "      <td>59</td>\n",
       "    </tr>\n",
       "  </tbody>\n",
       "</table>\n",
       "<p>16735 rows × 2 columns</p>\n",
       "</div>"
      ],
      "text/plain": [
       "                                      mean  count\n",
       "name                                             \n",
       "Limbo: Eternal War                9.597143     35\n",
       "Animator vs Animation             9.588235     34\n",
       "TerroriXico                       9.428571     70\n",
       "Arena: The Contest                9.409091     99\n",
       "Court of the Dead: Mourners Call  9.333519     54\n",
       "...                                    ...    ...\n",
       "BreaKey                           1.546279     43\n",
       "Overturn: Rising Sands            1.455556     90\n",
       "W.W.B                             1.423384     43\n",
       "Intelligent Design vs. Evolution  1.371186     59\n",
       "Oneupmanship: Mine's Bigger       1.052542     59\n",
       "\n",
       "[16735 rows x 2 columns]"
      ]
     },
     "execution_count": 14,
     "metadata": {},
     "output_type": "execute_result"
    }
   ],
   "source": [
    "# Group the reviews by game, get the rating column and aggregate each group by with its mean and count\n",
    "games_by_all_users = reviews.groupby('name')['rating'].agg(['mean','count'])\n",
    "games_by_all_users.sort_values('mean',ascending=False, inplace=True)\n",
    "\n",
    "# How many games with ratings/reviews\n",
    "# Machine learning does recommendation on top X games.\n",
    "games_by_all_users"
   ]
  },
  {
   "cell_type": "markdown",
   "metadata": {},
   "source": [
    "#### Game Bias"
   ]
  },
  {
   "cell_type": "code",
   "execution_count": 121,
   "metadata": {},
   "outputs": [
    {
     "data": {
      "text/plain": [
       "torch.Size([9196])"
      ]
     },
     "execution_count": 121,
     "metadata": {},
     "output_type": "execute_result"
    }
   ],
   "source": [
    "# High bias, generally means the book is rated higher, low bias means the game is rated poorly\n",
    "game_bias = learner.bias(top_games, is_item=True)\n",
    "game_bias.shape"
   ]
  },
  {
   "cell_type": "code",
   "execution_count": 25,
   "metadata": {},
   "outputs": [],
   "source": [
    "game_bias.shapemean_ratings = reviews.groupby('name')['rating'].mean()"
   ]
  },
  {
   "cell_type": "code",
   "execution_count": 27,
   "metadata": {},
   "outputs": [],
   "source": [
    "# game_bias"
   ]
  },
  {
   "cell_type": "code",
   "execution_count": 28,
   "metadata": {},
   "outputs": [],
   "source": [
    "game_ratings = [(b, i, mean_ratings.loc[i]) for i,b in zip(top_games,game_bias)]"
   ]
  },
  {
   "cell_type": "code",
   "execution_count": 29,
   "metadata": {},
   "outputs": [],
   "source": [
    "item0 = lambda o:o[0]"
   ]
  },
  {
   "cell_type": "code",
   "execution_count": 61,
   "metadata": {},
   "outputs": [
    {
     "data": {
      "text/plain": [
       "[(tensor(1.0505), 'Gloomhaven', 8.9),\n",
       " (tensor(0.9571), 'Pandemic Legacy: Season 1', 8.64),\n",
       " (tensor(0.9459), 'Terraforming Mars', 8.4),\n",
       " (tensor(0.8582), 'Scythe', 8.29),\n",
       " (tensor(0.8437), 'Twilight Struggle', 8.33),\n",
       " (tensor(0.8218), 'Through the Ages: A New Story of Civilization', 8.54),\n",
       " (tensor(0.8199), '7 Wonders Duel', 8.12),\n",
       " (tensor(0.7990), 'Puerto Rico', 8.04),\n",
       " (tensor(0.7988), 'Terra Mystica', 8.19),\n",
       " (tensor(0.7983), 'Star Wars: Rebellion', 8.45),\n",
       " (tensor(0.7932), 'The Castles of Burgundy', 8.13),\n",
       " (tensor(0.7803), 'Great Western Trail', 8.29),\n",
       " (tensor(0.7643), 'Agricola', 7.99),\n",
       " (tensor(0.7286), 'Arkham Horror: The Card Game', 8.22),\n",
       " (tensor(0.7279), 'Viticulture Essential Edition', 8.15)]"
      ]
     },
     "execution_count": 61,
     "metadata": {},
     "output_type": "execute_result"
    }
   ],
   "source": [
    "# Top Games\n",
    "sorted(game_ratings, key=lambda o: o[0], reverse=True)[:15]"
   ]
  },
  {
   "cell_type": "code",
   "execution_count": 123,
   "metadata": {},
   "outputs": [
    {
     "data": {
      "text/plain": [
       "[(tensor(-0.2053), 'Cootie', 3.3),\n",
       " (tensor(-0.0238), 'Bunco Party', 3.28),\n",
       " (tensor(-0.1312), 'The Worst-Case Scenario Survival Game', 3.27),\n",
       " (tensor(-0.0586), 'Slap Jack', 3.26),\n",
       " (tensor(-0.2584), 'LCR', 3.26),\n",
       " (tensor(-0.4889), 'Candy Land', 3.17),\n",
       " (tensor(-0.0420), 'A Chaotic Life!', 3.17),\n",
       " (tensor(-0.0755), 'Bunco', 3.05),\n",
       " (tensor(-0.5398), 'Chutes and Ladders', 2.82),\n",
       " (tensor(-0.0858), 'The Ungame', 2.79),\n",
       " (tensor(-0.3619), 'Bingo', 2.76),\n",
       " (tensor(-0.0360), 'Power Lunch', 2.72),\n",
       " (tensor(-0.2766), 'War', 2.61),\n",
       " (tensor(-0.4838), 'Tic-Tac-Toe', 2.61),\n",
       " (tensor(-0.0298), 'Global Survival', 1.86)]"
      ]
     },
     "execution_count": 123,
     "metadata": {},
     "output_type": "execute_result"
    }
   ],
   "source": [
    "# Vector Space Representation of the Board Games\n",
    "game_ratings[-15:]"
   ]
  },
  {
   "cell_type": "markdown",
   "metadata": {},
   "source": [
    "## Readings\n",
    "\n",
    "### Dataset\n",
    "https://www.kaggle.com/jvanelteren/boardgamegeek-reviews\n",
    "\n",
    "### Fast AI Collaborative Filtering\n",
    "https://nbviewer.jupyter.org/github/fastai/course-v3/blob/master/nbs/dl1/lesson4-collab.ipynb\n",
    "\n",
    "### Medium Article\n",
    "https://towardsdatascience.com/various-implementations-of-collaborative-filtering-100385c6dfe0\n",
    "https://towardsdatascience.com/collaborative-filtering-with-fastai-3dbdd4ef4f00\n",
    "\n",
    "### Worth Reading - if have the time\n",
    "https://medium.com/datadriveninvestor/how-to-built-a-recommender-system-rs-616c988d64b2\n",
    "\n",
    "### Youtube Video\n",
    "https://www.youtube.com/watch?v=h9gpufJFF-0&fbclid=IwAR3vS-BP0RnyzfvO4FJeyhLuKo-cWZXXOtXRTFq_btJJ2NjR67foAdTu5gM\n",
    "https://www.youtube.com/watch?v=Svz02ezIbnE - Book Example with Fast AI, what we based our model on\n",
    "\n",
    "### Keras - Deep Learning Model\n",
    "https://towardsdatascience.com/building-a-book-recommendation-system-using-keras-1fba34180699\n",
    "\n",
    "#### Basic Model - Memory constraints, won't run on PC because our dataset is too big\n",
    "https://www.kaggle.com/kanncaa1/recommendation-systems-tutorial"
   ]
  }
 ],
 "metadata": {
  "kernelspec": {
   "display_name": "Python 3",
   "language": "python",
   "name": "python3"
  },
  "language_info": {
   "codemirror_mode": {
    "name": "ipython",
    "version": 3
   },
   "file_extension": ".py",
   "mimetype": "text/x-python",
   "name": "python",
   "nbconvert_exporter": "python",
   "pygments_lexer": "ipython3",
   "version": "3.7.5"
  }
 },
 "nbformat": 4,
 "nbformat_minor": 4
}
