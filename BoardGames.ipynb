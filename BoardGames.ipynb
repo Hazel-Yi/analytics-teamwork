{
 "cells": [
  {
   "cell_type": "markdown",
   "metadata": {},
   "source": [
    "# Readings\n",
    "\n",
    "## Dataset\n",
    "https://www.kaggle.com/jvanelteren/boardgamegeek-reviews\n",
    "\n",
    "## Fast AI Collaborative Filtering\n",
    "https://nbviewer.jupyter.org/github/fastai/course-v3/blob/master/nbs/dl1/lesson4-collab.ipynb\n",
    "\n",
    "## Medium Article\n",
    "https://towardsdatascience.com/various-implementations-of-collaborative-filtering-100385c6dfe0\n",
    "https://towardsdatascience.com/collaborative-filtering-with-fastai-3dbdd4ef4f00\n",
    "\n",
    "## Worth Reading - if have the time\n",
    "https://medium.com/datadriveninvestor/how-to-built-a-recommender-system-rs-616c988d64b2\n",
    "\n",
    "## Youtube Video\n",
    "https://www.youtube.com/watch?v=h9gpufJFF-0&fbclid=IwAR3vS-BP0RnyzfvO4FJeyhLuKo-cWZXXOtXRTFq_btJJ2NjR67foAdTu5gM\n",
    "https://www.youtube.com/watch?v=Svz02ezIbnE - Book Example with Fast AI, what we based our model on\n",
    "\n",
    "## Keras - Deep Learning Model\n",
    "https://towardsdatascience.com/building-a-book-recommendation-system-using-keras-1fba34180699\n",
    "\n",
    "## Basic Model - Memory constraints, won't run on PC because our dataset is too big\n",
    "https://www.kaggle.com/kanncaa1/recommendation-systems-tutorial"
   ]
  },
  {
   "cell_type": "code",
   "execution_count": 21,
   "metadata": {},
   "outputs": [],
   "source": [
    "import pandas as pd\n",
    "from fastai.collab import *\n",
    "from sklearn.neighbors import NearestNeighbors"
   ]
  },
  {
   "cell_type": "code",
   "execution_count": 22,
   "metadata": {},
   "outputs": [],
   "source": [
    "# Import List of Games\n",
    "gamelist_filename = '2019-05-02.csv'\n",
    "reviewlist_filename = 'bgg-13m-reviews.csv'\n",
    "games = pd.read_csv(gamelist_filename)\n",
    "# games.describe()"
   ]
  },
  {
   "cell_type": "code",
   "execution_count": 23,
   "metadata": {},
   "outputs": [],
   "source": [
    "games.sort_values('Users rated',ascending=False,inplace=True)\n",
    "games.rename(index=str, columns={\"Bayes average\": \"Geekscore\",'Name':'name'}, inplace=True)"
   ]
  },
  {
   "cell_type": "code",
   "execution_count": 4,
   "metadata": {},
   "outputs": [
    {
     "name": "stderr",
     "output_type": "stream",
     "text": [
      "C:\\Users\\Jerry\\Anaconda3\\lib\\site-packages\\numpy\\lib\\arraysetops.py:569: FutureWarning: elementwise comparison failed; returning scalar instead, but in the future will perform elementwise comparison\n",
      "  mask |= (ar1 == a)\n"
     ]
    }
   ],
   "source": [
    "# Import Reviews\n",
    "reviews = pd.read_csv('bgg-13m-reviews.csv', index_col = 0);"
   ]
  },
  {
   "cell_type": "code",
   "execution_count": 5,
   "metadata": {},
   "outputs": [
    {
     "data": {
      "text/html": [
       "<div>\n",
       "<style scoped>\n",
       "    .dataframe tbody tr th:only-of-type {\n",
       "        vertical-align: middle;\n",
       "    }\n",
       "\n",
       "    .dataframe tbody tr th {\n",
       "        vertical-align: top;\n",
       "    }\n",
       "\n",
       "    .dataframe thead th {\n",
       "        text-align: right;\n",
       "    }\n",
       "</style>\n",
       "<table border=\"1\" class=\"dataframe\">\n",
       "  <thead>\n",
       "    <tr style=\"text-align: right;\">\n",
       "      <th></th>\n",
       "      <th>user</th>\n",
       "      <th>rating</th>\n",
       "      <th>comment</th>\n",
       "      <th>ID</th>\n",
       "      <th>name</th>\n",
       "    </tr>\n",
       "  </thead>\n",
       "  <tbody>\n",
       "    <tr>\n",
       "      <td>0</td>\n",
       "      <td>sidehacker</td>\n",
       "      <td>10.0</td>\n",
       "      <td>NaN</td>\n",
       "      <td>13</td>\n",
       "      <td>Catan</td>\n",
       "    </tr>\n",
       "    <tr>\n",
       "      <td>1</td>\n",
       "      <td>Varthlokkur</td>\n",
       "      <td>10.0</td>\n",
       "      <td>NaN</td>\n",
       "      <td>13</td>\n",
       "      <td>Catan</td>\n",
       "    </tr>\n",
       "    <tr>\n",
       "      <td>2</td>\n",
       "      <td>dougthonus</td>\n",
       "      <td>10.0</td>\n",
       "      <td>Currently, this sits on my list as my favorite...</td>\n",
       "      <td>13</td>\n",
       "      <td>Catan</td>\n",
       "    </tr>\n",
       "    <tr>\n",
       "      <td>3</td>\n",
       "      <td>cypar7</td>\n",
       "      <td>10.0</td>\n",
       "      <td>I know it says how many plays, but many, many ...</td>\n",
       "      <td>13</td>\n",
       "      <td>Catan</td>\n",
       "    </tr>\n",
       "    <tr>\n",
       "      <td>4</td>\n",
       "      <td>ssmooth</td>\n",
       "      <td>10.0</td>\n",
       "      <td>NaN</td>\n",
       "      <td>13</td>\n",
       "      <td>Catan</td>\n",
       "    </tr>\n",
       "  </tbody>\n",
       "</table>\n",
       "</div>"
      ],
      "text/plain": [
       "          user  rating                                            comment  ID  \\\n",
       "0   sidehacker    10.0                                                NaN  13   \n",
       "1  Varthlokkur    10.0                                                NaN  13   \n",
       "2   dougthonus    10.0  Currently, this sits on my list as my favorite...  13   \n",
       "3       cypar7    10.0  I know it says how many plays, but many, many ...  13   \n",
       "4      ssmooth    10.0                                                NaN  13   \n",
       "\n",
       "    name  \n",
       "0  Catan  \n",
       "1  Catan  \n",
       "2  Catan  \n",
       "3  Catan  \n",
       "4  Catan  "
      ]
     },
     "execution_count": 5,
     "metadata": {},
     "output_type": "execute_result"
    }
   ],
   "source": [
    "reviews.head()"
   ]
  },
  {
   "cell_type": "code",
   "execution_count": 6,
   "metadata": {},
   "outputs": [],
   "source": [
    "# Group the reviews by game, get the rating column and aggregate each group by with its mean and count\n",
    "games_by_all_users = reviews.groupby('name')['rating'].agg(['mean','count'])\n",
    "games_by_all_users.sort_values('mean',ascending=False, inplace=True)\n",
    "\n",
    "# How many games with ratings/reviews\n",
    "# Machine learning does recommendation on top X games."
   ]
  },
  {
   "cell_type": "code",
   "execution_count": 7,
   "metadata": {},
   "outputs": [
    {
     "data": {
      "text/html": [
       "<div>\n",
       "<style scoped>\n",
       "    .dataframe tbody tr th:only-of-type {\n",
       "        vertical-align: middle;\n",
       "    }\n",
       "\n",
       "    .dataframe tbody tr th {\n",
       "        vertical-align: top;\n",
       "    }\n",
       "\n",
       "    .dataframe thead th {\n",
       "        text-align: right;\n",
       "    }\n",
       "</style>\n",
       "<table border=\"1\" class=\"dataframe\">\n",
       "  <thead>\n",
       "    <tr style=\"text-align: right;\">\n",
       "      <th></th>\n",
       "      <th>mean</th>\n",
       "      <th>count</th>\n",
       "    </tr>\n",
       "    <tr>\n",
       "      <th>name</th>\n",
       "      <th></th>\n",
       "      <th></th>\n",
       "    </tr>\n",
       "  </thead>\n",
       "  <tbody>\n",
       "    <tr>\n",
       "      <td>Limbo: Eternal War</td>\n",
       "      <td>9.597143</td>\n",
       "      <td>35</td>\n",
       "    </tr>\n",
       "    <tr>\n",
       "      <td>Animator vs Animation</td>\n",
       "      <td>9.588235</td>\n",
       "      <td>34</td>\n",
       "    </tr>\n",
       "    <tr>\n",
       "      <td>TerroriXico</td>\n",
       "      <td>9.428571</td>\n",
       "      <td>70</td>\n",
       "    </tr>\n",
       "    <tr>\n",
       "      <td>Arena: The Contest</td>\n",
       "      <td>9.409091</td>\n",
       "      <td>99</td>\n",
       "    </tr>\n",
       "    <tr>\n",
       "      <td>Court of the Dead: Mourners Call</td>\n",
       "      <td>9.333519</td>\n",
       "      <td>54</td>\n",
       "    </tr>\n",
       "    <tr>\n",
       "      <td>...</td>\n",
       "      <td>...</td>\n",
       "      <td>...</td>\n",
       "    </tr>\n",
       "    <tr>\n",
       "      <td>BreaKey</td>\n",
       "      <td>1.546279</td>\n",
       "      <td>43</td>\n",
       "    </tr>\n",
       "    <tr>\n",
       "      <td>Overturn: Rising Sands</td>\n",
       "      <td>1.455556</td>\n",
       "      <td>90</td>\n",
       "    </tr>\n",
       "    <tr>\n",
       "      <td>W.W.B</td>\n",
       "      <td>1.423384</td>\n",
       "      <td>43</td>\n",
       "    </tr>\n",
       "    <tr>\n",
       "      <td>Intelligent Design vs. Evolution</td>\n",
       "      <td>1.371186</td>\n",
       "      <td>59</td>\n",
       "    </tr>\n",
       "    <tr>\n",
       "      <td>Oneupmanship: Mine's Bigger</td>\n",
       "      <td>1.052542</td>\n",
       "      <td>59</td>\n",
       "    </tr>\n",
       "  </tbody>\n",
       "</table>\n",
       "<p>16735 rows × 2 columns</p>\n",
       "</div>"
      ],
      "text/plain": [
       "                                      mean  count\n",
       "name                                             \n",
       "Limbo: Eternal War                9.597143     35\n",
       "Animator vs Animation             9.588235     34\n",
       "TerroriXico                       9.428571     70\n",
       "Arena: The Contest                9.409091     99\n",
       "Court of the Dead: Mourners Call  9.333519     54\n",
       "...                                    ...    ...\n",
       "BreaKey                           1.546279     43\n",
       "Overturn: Rising Sands            1.455556     90\n",
       "W.W.B                             1.423384     43\n",
       "Intelligent Design vs. Evolution  1.371186     59\n",
       "Oneupmanship: Mine's Bigger       1.052542     59\n",
       "\n",
       "[16735 rows x 2 columns]"
      ]
     },
     "execution_count": 7,
     "metadata": {},
     "output_type": "execute_result"
    }
   ],
   "source": [
    "games_by_all_users"
   ]
  },
  {
   "cell_type": "code",
   "execution_count": 8,
   "metadata": {},
   "outputs": [],
   "source": [
    "# Create a Data Bunch, a data object used by the learner\n",
    "data = CollabDataBunch.from_df(reviews, user_name='user', item_name='name', rating_name='rating', seed=42)"
   ]
  },
  {
   "cell_type": "code",
   "execution_count": 58,
   "metadata": {},
   "outputs": [
    {
     "data": {
      "text/html": [
       "<table border=\"1\" class=\"dataframe\">\n",
       "  <thead>\n",
       "    <tr style=\"text-align: right;\">\n",
       "      <th>user</th>\n",
       "      <th>name</th>\n",
       "      <th>target</th>\n",
       "    </tr>\n",
       "  </thead>\n",
       "  <tbody>\n",
       "    <tr>\n",
       "      <td>Gadium</td>\n",
       "      <td>Dice Hospital</td>\n",
       "      <td>7.0</td>\n",
       "    </tr>\n",
       "    <tr>\n",
       "      <td>tedacuen</td>\n",
       "      <td>Timeline: Events</td>\n",
       "      <td>7.0</td>\n",
       "    </tr>\n",
       "    <tr>\n",
       "      <td>seanjoleary</td>\n",
       "      <td>Isle of Skye: From Chieftain to King</td>\n",
       "      <td>7.0</td>\n",
       "    </tr>\n",
       "    <tr>\n",
       "      <td>zd2046</td>\n",
       "      <td>Samurai</td>\n",
       "      <td>8.0</td>\n",
       "    </tr>\n",
       "    <tr>\n",
       "      <td>davakon</td>\n",
       "      <td>Black Stories 2</td>\n",
       "      <td>8.0</td>\n",
       "    </tr>\n",
       "  </tbody>\n",
       "</table>"
      ],
      "text/plain": [
       "<IPython.core.display.HTML object>"
      ]
     },
     "metadata": {},
     "output_type": "display_data"
    },
    {
     "data": {
      "text/plain": [
       "(1.4013e-45, 10.0)"
      ]
     },
     "execution_count": 58,
     "metadata": {},
     "output_type": "execute_result"
    }
   ],
   "source": [
    "data.show_batch()\n",
    "reviews.rating.min(), reviews.rating.max()"
   ]
  },
  {
   "cell_type": "markdown",
   "metadata": {},
   "source": [
    "## EmbeddingDotBias Model"
   ]
  },
  {
   "cell_type": "code",
   "execution_count": 59,
   "metadata": {},
   "outputs": [
    {
     "name": "stdout",
     "output_type": "stream",
     "text": [
      "EmbeddingDotBias\n",
      "======================================================================\n",
      "Layer (type)         Output Shape         Param #    Trainable \n",
      "======================================================================\n",
      "Embedding            [50]                 13,926,300 True      \n",
      "______________________________________________________________________\n",
      "Embedding            [50]                 836,800    True      \n",
      "______________________________________________________________________\n",
      "Embedding            [1]                  278,526    True      \n",
      "______________________________________________________________________\n",
      "Embedding            [1]                  16,736     True      \n",
      "______________________________________________________________________\n",
      "\n",
      "Total params: 15,058,362\n",
      "Total trainable params: 15,058,362\n",
      "Total non-trainable params: 0\n",
      "Optimized with 'torch.optim.adam.Adam', betas=(0.9, 0.99)\n",
      "Using true weight decay as discussed in https://www.fast.ai/2018/07/02/adam-weight-decay/ \n",
      "Loss function : FlattenedLoss\n",
      "======================================================================\n",
      "Callbacks functions applied \n",
      "\n"
     ]
    }
   ],
   "source": [
    "learner = collab_learner(data, n_factors=50, y_range=(2.,10))\n",
    "print(learner.summary())"
   ]
  },
  {
   "cell_type": "code",
   "execution_count": 11,
   "metadata": {},
   "outputs": [
    {
     "data": {
      "text/html": [],
      "text/plain": [
       "<IPython.core.display.HTML object>"
      ]
     },
     "metadata": {},
     "output_type": "display_data"
    },
    {
     "name": "stdout",
     "output_type": "stream",
     "text": [
      "LR Finder is complete, type {learner_name}.recorder.plot() to see the graph.\n"
     ]
    }
   ],
   "source": [
    "# Find a good learning rate\n",
    "# lr_find(learner)"
   ]
  },
  {
   "cell_type": "code",
   "execution_count": 12,
   "metadata": {},
   "outputs": [
    {
     "data": {
      "image/png": "[encoded data removed]",
      "text/plain": [
       "<Figure size 432x288 with 1 Axes>"
      ]
     },
     "metadata": {
      "needs_background": "light"
     },
     "output_type": "display_data"
    }
   ],
   "source": [
    "# learner.recorder.plot()"
   ]
  },
  {
   "cell_type": "code",
   "execution_count": 13,
   "metadata": {},
   "outputs": [
    {
     "data": {
      "text/html": [
       "<table border=\"1\" class=\"dataframe\">\n",
       "  <thead>\n",
       "    <tr style=\"text-align: left;\">\n",
       "      <th>epoch</th>\n",
       "      <th>train_loss</th>\n",
       "      <th>valid_loss</th>\n",
       "      <th>time</th>\n",
       "    </tr>\n",
       "  </thead>\n",
       "  <tbody>\n",
       "    <tr>\n",
       "      <td>0</td>\n",
       "      <td>2.332111</td>\n",
       "      <td>2.314130</td>\n",
       "      <td>23:33</td>\n",
       "    </tr>\n",
       "    <tr>\n",
       "      <td>1</td>\n",
       "      <td>2.297813</td>\n",
       "      <td>2.257733</td>\n",
       "      <td>23:47</td>\n",
       "    </tr>\n",
       "    <tr>\n",
       "      <td>2</td>\n",
       "      <td>2.104625</td>\n",
       "      <td>2.111950</td>\n",
       "      <td>23:51</td>\n",
       "    </tr>\n",
       "  </tbody>\n",
       "</table>"
      ],
      "text/plain": [
       "<IPython.core.display.HTML object>"
      ]
     },
     "metadata": {},
     "output_type": "display_data"
    }
   ],
   "source": [
    "# learner.fit_one_cycle(3, 1e-2, wd=0.15)\n"
   ]
  },
  {
   "cell_type": "code",
   "execution_count": 81,
   "metadata": {},
   "outputs": [],
   "source": [
    "# learner.save(\"trained_model\", return_path=True)\n",
    "learner.load(\"trained_model\");"
   ]
  },
  {
   "cell_type": "code",
   "execution_count": 16,
   "metadata": {},
   "outputs": [
    {
     "data": {
      "text/plain": [
       "EmbeddingDotBias(\n",
       "  (u_weight): Embedding(278526, 50)\n",
       "  (i_weight): Embedding(16736, 50)\n",
       "  (u_bias): Embedding(278526, 1)\n",
       "  (i_bias): Embedding(16736, 1)\n",
       ")"
      ]
     },
     "execution_count": 16,
     "metadata": {},
     "output_type": "execute_result"
    }
   ],
   "source": [
    "learner.model"
   ]
  },
  {
   "cell_type": "code",
   "execution_count": 17,
   "metadata": {},
   "outputs": [
    {
     "name": "stderr",
     "output_type": "stream",
     "text": [
      "C:\\Users\\Jerry\\Anaconda3\\lib\\site-packages\\IPython\\core\\events.py:88: UserWarning: Creating legend with loc=\"best\" can be slow with large amounts of data.\n",
      "  func(*args, **kwargs)\n",
      "C:\\Users\\Jerry\\Anaconda3\\lib\\site-packages\\IPython\\core\\pylabtools.py:128: UserWarning: Creating legend with loc=\"best\" can be slow with large amounts of data.\n",
      "  fig.canvas.print_figure(bytes_io, **kw)\n"
     ]
    },
    {
     "data": {
      "image/png": "[encoded data removed]",
      "text/plain": [
       "<Figure size 432x288 with 1 Axes>"
      ]
     },
     "metadata": {
      "needs_background": "light"
     },
     "output_type": "display_data"
    }
   ],
   "source": [
    "learner.recorder.plot_losses()"
   ]
  },
  {
   "cell_type": "code",
   "execution_count": 18,
   "metadata": {},
   "outputs": [],
   "source": [
    "mean_ratings = reviews.groupby('name')['rating'].mean().round(2)\n"
   ]
  },
  {
   "cell_type": "code",
   "execution_count": 20,
   "metadata": {},
   "outputs": [],
   "source": [
    "# Games where there are over 5000 ratings\n",
    "top_games = games_by_all_users[games_by_all_users['count']>5000].sort_values('mean',ascending=False).index"
   ]
  },
  {
   "cell_type": "code",
   "execution_count": 22,
   "metadata": {},
   "outputs": [
    {
     "name": "stdout",
     "output_type": "stream",
     "text": [
      "530\n"
     ]
    }
   ],
   "source": [
    "# Number of games with over 5000 ratings\n",
    "print(len(top_games))"
   ]
  },
  {
   "cell_type": "code",
   "execution_count": 52,
   "metadata": {},
   "outputs": [
    {
     "data": {
      "text/plain": [
       "torch.Size([530])"
      ]
     },
     "execution_count": 52,
     "metadata": {},
     "output_type": "execute_result"
    }
   ],
   "source": [
    "# High bias, generally means the book is rated higher, low bias means the game is rated poorly\n",
    "game_bias = learner.bias(top_games, is_item=True)\n",
    "game_bias.shape"
   ]
  },
  {
   "cell_type": "code",
   "execution_count": 25,
   "metadata": {},
   "outputs": [],
   "source": [
    "game_bias.shapemean_ratings = reviews.groupby('name')['rating'].mean()"
   ]
  },
  {
   "cell_type": "code",
   "execution_count": 27,
   "metadata": {},
   "outputs": [],
   "source": [
    "# game_bias"
   ]
  },
  {
   "cell_type": "code",
   "execution_count": 28,
   "metadata": {},
   "outputs": [],
   "source": [
    "game_ratings = [(b, i, mean_ratings.loc[i]) for i,b in zip(top_games,game_bias)]"
   ]
  },
  {
   "cell_type": "code",
   "execution_count": 29,
   "metadata": {},
   "outputs": [],
   "source": [
    "item0 = lambda o:o[0]"
   ]
  },
  {
   "cell_type": "code",
   "execution_count": 61,
   "metadata": {},
   "outputs": [
    {
     "data": {
      "text/plain": [
       "[(tensor(1.0505), 'Gloomhaven', 8.9),\n",
       " (tensor(0.9571), 'Pandemic Legacy: Season 1', 8.64),\n",
       " (tensor(0.9459), 'Terraforming Mars', 8.4),\n",
       " (tensor(0.8582), 'Scythe', 8.29),\n",
       " (tensor(0.8437), 'Twilight Struggle', 8.33),\n",
       " (tensor(0.8218), 'Through the Ages: A New Story of Civilization', 8.54),\n",
       " (tensor(0.8199), '7 Wonders Duel', 8.12),\n",
       " (tensor(0.7990), 'Puerto Rico', 8.04),\n",
       " (tensor(0.7988), 'Terra Mystica', 8.19),\n",
       " (tensor(0.7983), 'Star Wars: Rebellion', 8.45),\n",
       " (tensor(0.7932), 'The Castles of Burgundy', 8.13),\n",
       " (tensor(0.7803), 'Great Western Trail', 8.29),\n",
       " (tensor(0.7643), 'Agricola', 7.99),\n",
       " (tensor(0.7286), 'Arkham Horror: The Card Game', 8.22),\n",
       " (tensor(0.7279), 'Viticulture Essential Edition', 8.15)]"
      ]
     },
     "execution_count": 61,
     "metadata": {},
     "output_type": "execute_result"
    }
   ],
   "source": [
    "# Top Games\n",
    "sorted(game_ratings, key=lambda o: o[0], reverse=True)[:15]"
   ]
  },
  {
   "cell_type": "code",
   "execution_count": 62,
   "metadata": {},
   "outputs": [],
   "source": [
    "# Vector Space Representation of the Board Games"
   ]
  },
  {
   "cell_type": "markdown",
   "metadata": {},
   "source": [
    "## Find Similar Games"
   ]
  },
  {
   "cell_type": "code",
   "execution_count": 65,
   "metadata": {},
   "outputs": [],
   "source": [
    "# Want games with at least 50 reviews"
   ]
  },
  {
   "cell_type": "code",
   "execution_count": 132,
   "metadata": {},
   "outputs": [],
   "source": [
    "top_games = games_by_all_users[games_by_all_users['count']>100].sort_values('mean',ascending=False).index"
   ]
  },
  {
   "cell_type": "code",
   "execution_count": 133,
   "metadata": {},
   "outputs": [
    {
     "name": "stdout",
     "output_type": "stream",
     "text": [
      "9196\n"
     ]
    }
   ],
   "source": [
    "print(len(top_games)) # There are 13107 games with at least 50 reviews"
   ]
  },
  {
   "cell_type": "code",
   "execution_count": 134,
   "metadata": {},
   "outputs": [],
   "source": [
    "game_bias = learner.bias(top_games, is_item=True)"
   ]
  },
  {
   "cell_type": "code",
   "execution_count": 135,
   "metadata": {},
   "outputs": [
    {
     "data": {
      "text/plain": [
       "tensor([ 0.0473,  0.0713,  0.1888,  ..., -0.2766, -0.4838, -0.0298])"
      ]
     },
     "execution_count": 135,
     "metadata": {},
     "output_type": "execute_result"
    }
   ],
   "source": [
    "game_bias"
   ]
  },
  {
   "cell_type": "code",
   "execution_count": 136,
   "metadata": {},
   "outputs": [],
   "source": [
    "shapemean_ratings = reviews.groupby('name')['rating'].mean()"
   ]
  },
  {
   "cell_type": "code",
   "execution_count": 150,
   "metadata": {},
   "outputs": [
    {
     "data": {
      "text/plain": [
       "tensor([ 0.0473,  0.0713,  0.1888,  ..., -0.2766, -0.4838, -0.0298])"
      ]
     },
     "execution_count": 150,
     "metadata": {},
     "output_type": "execute_result"
    }
   ],
   "source": [
    "game_bias"
   ]
  },
  {
   "cell_type": "code",
   "execution_count": 138,
   "metadata": {},
   "outputs": [
    {
     "data": {
      "text/plain": [
       "name\n",
       "\"La Garde recule!\"                                                              5.540323\n",
       "\"Oh My God! There's An Axe In My Head.\" The Game of International Diplomacy     6.020533\n",
       "\"Scratch One Flat Top!\"                                                         7.354889\n",
       "\"Tarleton's Quarter!\"                                                           7.150000\n",
       "'65: Squad-Level Combat in the Jungles of Vietnam                               7.633178\n",
       "                                                                                  ...   \n",
       "ひとひら (Hitohira)                                                                 6.486053\n",
       "ふくろと金貨 (Moneybags)                                                              5.777778\n",
       "メトロックス (MetroX)                                                                 7.078975\n",
       "猿道 (Monkey Road)                                                                5.900270\n",
       "老師敬服 (Master of Respect)                                                        7.269783\n",
       "Name: rating, Length: 16735, dtype: float64"
      ]
     },
     "execution_count": 138,
     "metadata": {},
     "output_type": "execute_result"
    }
   ],
   "source": [
    "shapemean_ratings"
   ]
  },
  {
   "cell_type": "code",
   "execution_count": 139,
   "metadata": {},
   "outputs": [],
   "source": [
    "game_ratings = [(b, i, mean_ratings.loc[i]) for i,b in zip(top_games,game_bias)]"
   ]
  },
  {
   "cell_type": "code",
   "execution_count": 117,
   "metadata": {},
   "outputs": [],
   "source": [
    "game_ratings;"
   ]
  },
  {
   "cell_type": "code",
   "execution_count": 153,
   "metadata": {},
   "outputs": [],
   "source": [
    "game_weights = learner.weight(top_games, is_item=True)\n",
    "game_weights.shape\n",
    "game_pca = game_weights.pca(3)\n",
    "game_pca.shape\n",
    "game_np_weights = game_pca.numpy()\n",
    "game_np_weights\n",
    "game_weights = game_weights.numpy()"
   ]
  },
  {
   "cell_type": "code",
   "execution_count": 179,
   "metadata": {},
   "outputs": [],
   "source": [
    "nn = NearestNeighbors(n_neighbors=len(top_games))\n",
    "fitnn = nn.fit(game_np_weights)"
   ]
  },
  {
   "cell_type": "code",
   "execution_count": 181,
   "metadata": {},
   "outputs": [],
   "source": [
    "distance, neighbours = fitnn.kneighbors(X=[game_np_weights[1]], n_neighbors=5)"
   ]
  },
  {
   "cell_type": "code",
   "execution_count": 180,
   "metadata": {},
   "outputs": [],
   "source": [
    "def getRecommendations( game, n_recommendations):\n",
    "    distance, neighbours = fitnn.kneighbors(X=[game_np_weights[game]], n_neighbors=5)\n",
    "    recommand_list=[]\n",
    "    for i,value in enumerate(neighbours, start=0):\n",
    "        print(top_games[value], distance[i])\n",
    "        recommand_list.append(top_games[value])"
   ]
  },
  {
   "cell_type": "code",
   "execution_count": 182,
   "metadata": {},
   "outputs": [
    {
     "name": "stdout",
     "output_type": "stream",
     "text": [
      "Index(['Time of Legends: Joan of Arc', 'Anima: Beyond Good and Evil',\n",
      "       'Scuttle!', 'DAK', 'Great War at Sea: The Mediterranean'],\n",
      "      dtype='object', name='name') [0.       0.001556 0.001569 0.001934 0.003005]\n"
     ]
    }
   ],
   "source": [
    "getRecommendations(1, 5)"
   ]
  },
  {
   "cell_type": "code",
   "execution_count": 173,
   "metadata": {},
   "outputs": [
    {
     "data": {
      "text/plain": [
       "'Time of Legends: Joan of Arc'"
      ]
     },
     "execution_count": 173,
     "metadata": {},
     "output_type": "execute_result"
    }
   ],
   "source": [
    "top_games[1]"
   ]
  },
  {
   "cell_type": "code",
   "execution_count": 155,
   "metadata": {},
   "outputs": [],
   "source": [
    "nn2 = NearestNeighbors(n_neighbors=len(top_games))\n",
    "fitnn2 = nn2.fit(game_weights)"
   ]
  },
  {
   "cell_type": "code",
   "execution_count": 184,
   "metadata": {},
   "outputs": [],
   "source": [
    "distance, neighbours = fitnn2.kneighbors(X=[game_weights[1]], n_neighbors=5)"
   ]
  },
  {
   "cell_type": "code",
   "execution_count": 185,
   "metadata": {},
   "outputs": [
    {
     "name": "stdout",
     "output_type": "stream",
     "text": [
      "Index(['Time of Legends: Joan of Arc', 'Helvetia Cup', 'Bangkok Klongs',\n",
      "       'VektoRace', 'Hero of Weehawken'],\n",
      "      dtype='object', name='name') [0.       0.009033 0.009997 0.010024 0.010199]\n"
     ]
    }
   ],
   "source": [
    "for i,value in enumerate(neighbours, start=0):\n",
    "    print(top_games[value], distance[i])"
   ]
  },
  {
   "cell_type": "code",
   "execution_count": 172,
   "metadata": {},
   "outputs": [
    {
     "data": {
      "text/plain": [
       "array([[   1, 3164, 5786,   80,  813]], dtype=int64)"
      ]
     },
     "execution_count": 172,
     "metadata": {},
     "output_type": "execute_result"
    }
   ],
   "source": [
    "neighbours"
   ]
  },
  {
   "cell_type": "code",
   "execution_count": 24,
   "metadata": {},
   "outputs": [
    {
     "data": {
      "text/html": [
       "<div>\n",
       "<style scoped>\n",
       "    .dataframe tbody tr th:only-of-type {\n",
       "        vertical-align: middle;\n",
       "    }\n",
       "\n",
       "    .dataframe tbody tr th {\n",
       "        vertical-align: top;\n",
       "    }\n",
       "\n",
       "    .dataframe thead th {\n",
       "        text-align: right;\n",
       "    }\n",
       "</style>\n",
       "<table border=\"1\" class=\"dataframe\">\n",
       "  <thead>\n",
       "    <tr style=\"text-align: right;\">\n",
       "      <th></th>\n",
       "      <th>ID</th>\n",
       "      <th>Year</th>\n",
       "      <th>Rank</th>\n",
       "      <th>Average</th>\n",
       "      <th>Geekscore</th>\n",
       "      <th>Users rated</th>\n",
       "      <th>URL</th>\n",
       "      <th>Thumbnail</th>\n",
       "    </tr>\n",
       "    <tr>\n",
       "      <th>name</th>\n",
       "      <th></th>\n",
       "      <th></th>\n",
       "      <th></th>\n",
       "      <th></th>\n",
       "      <th></th>\n",
       "      <th></th>\n",
       "      <th></th>\n",
       "      <th></th>\n",
       "    </tr>\n",
       "  </thead>\n",
       "  <tbody>\n",
       "    <tr>\n",
       "      <th>Time of Legends: Joan of Arc</th>\n",
       "      <td>230791</td>\n",
       "      <td>2019</td>\n",
       "      <td>3884</td>\n",
       "      <td>9.04</td>\n",
       "      <td>5.734</td>\n",
       "      <td>281</td>\n",
       "      <td>/boardgame/230791/time-legends-joan-arc</td>\n",
       "      <td>https://cf.geekdo-images.com/micro/img/bU7uQlo...</td>\n",
       "    </tr>\n",
       "    <tr>\n",
       "      <th>Helvetia Cup</th>\n",
       "      <td>128218</td>\n",
       "      <td>2012</td>\n",
       "      <td>4865</td>\n",
       "      <td>6.85</td>\n",
       "      <td>5.662</td>\n",
       "      <td>179</td>\n",
       "      <td>/boardgame/128218/helvetia-cup</td>\n",
       "      <td>https://cf.geekdo-images.com/micro/img/hSv76YA...</td>\n",
       "    </tr>\n",
       "    <tr>\n",
       "      <th>Bangkok Klongs</th>\n",
       "      <td>82424</td>\n",
       "      <td>2010</td>\n",
       "      <td>5102</td>\n",
       "      <td>6.29</td>\n",
       "      <td>5.651</td>\n",
       "      <td>298</td>\n",
       "      <td>/boardgame/82424/bangkok-klongs</td>\n",
       "      <td>https://cf.geekdo-images.com/micro/img/ZsUIgji...</td>\n",
       "    </tr>\n",
       "    <tr>\n",
       "      <th>VektoRace</th>\n",
       "      <td>256839</td>\n",
       "      <td>2018</td>\n",
       "      <td>3464</td>\n",
       "      <td>8.33</td>\n",
       "      <td>5.778</td>\n",
       "      <td>190</td>\n",
       "      <td>/boardgame/256839/vektorace</td>\n",
       "      <td>https://cf.geekdo-images.com/micro/img/E27zZ0M...</td>\n",
       "    </tr>\n",
       "    <tr>\n",
       "      <th>Hero of Weehawken</th>\n",
       "      <td>100169</td>\n",
       "      <td>2011</td>\n",
       "      <td>4022</td>\n",
       "      <td>7.58</td>\n",
       "      <td>5.722</td>\n",
       "      <td>149</td>\n",
       "      <td>/boardgame/100169/hero-weehawken</td>\n",
       "      <td>https://cf.geekdo-images.com/micro/img/-nAi3ZY...</td>\n",
       "    </tr>\n",
       "  </tbody>\n",
       "</table>\n",
       "</div>"
      ],
      "text/plain": [
       "                                  ID  Year  Rank  Average  Geekscore  \\\n",
       "name                                                                   \n",
       "Time of Legends: Joan of Arc  230791  2019  3884     9.04      5.734   \n",
       "Helvetia Cup                  128218  2012  4865     6.85      5.662   \n",
       "Bangkok Klongs                 82424  2010  5102     6.29      5.651   \n",
       "VektoRace                     256839  2018  3464     8.33      5.778   \n",
       "Hero of Weehawken             100169  2011  4022     7.58      5.722   \n",
       "\n",
       "                              Users rated  \\\n",
       "name                                        \n",
       "Time of Legends: Joan of Arc          281   \n",
       "Helvetia Cup                          179   \n",
       "Bangkok Klongs                        298   \n",
       "VektoRace                             190   \n",
       "Hero of Weehawken                     149   \n",
       "\n",
       "                                                                  URL  \\\n",
       "name                                                                    \n",
       "Time of Legends: Joan of Arc  /boardgame/230791/time-legends-joan-arc   \n",
       "Helvetia Cup                           /boardgame/128218/helvetia-cup   \n",
       "Bangkok Klongs                        /boardgame/82424/bangkok-klongs   \n",
       "VektoRace                                 /boardgame/256839/vektorace   \n",
       "Hero of Weehawken                    /boardgame/100169/hero-weehawken   \n",
       "\n",
       "                                                                      Thumbnail  \n",
       "name                                                                             \n",
       "Time of Legends: Joan of Arc  https://cf.geekdo-images.com/micro/img/bU7uQlo...  \n",
       "Helvetia Cup                  https://cf.geekdo-images.com/micro/img/hSv76YA...  \n",
       "Bangkok Klongs                https://cf.geekdo-images.com/micro/img/ZsUIgji...  \n",
       "VektoRace                     https://cf.geekdo-images.com/micro/img/E27zZ0M...  \n",
       "Hero of Weehawken             https://cf.geekdo-images.com/micro/img/-nAi3ZY...  "
      ]
     },
     "execution_count": 24,
     "metadata": {},
     "output_type": "execute_result"
    }
   ],
   "source": [
    "#output the recommand list\n",
    "games.set_index(\"name\",inplace =True)\n",
    "games.loc[recommand_list]"
   ]
  },
  {
   "cell_type": "code",
   "execution_count": null,
   "metadata": {},
   "outputs": [],
   "source": []
  }
 ],
 "metadata": {
  "kernelspec": {
   "display_name": "Python 3",
   "language": "python",
   "name": "python3"
  },
  "language_info": {
   "codemirror_mode": {
    "name": "ipython",
    "version": 3
   },
   "file_extension": ".py",
   "mimetype": "text/x-python",
   "name": "python",
   "nbconvert_exporter": "python",
   "pygments_lexer": "ipython3",
   "version": "3.7.3"
  }
 },
 "nbformat": 4,
 "nbformat_minor": 4
}
