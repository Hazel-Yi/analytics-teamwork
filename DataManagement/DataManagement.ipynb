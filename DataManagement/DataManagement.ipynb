{
 "cells": [
  {
   "cell_type": "code",
   "execution_count": 185,
   "metadata": {},
   "outputs": [],
   "source": [
    "import pandas as pd\n",
    "import json\n",
    "import ast\n",
    "import pprint\n",
    "pp = pprint.PrettyPrinter(indent=2)"
   ]
  },
  {
   "cell_type": "code",
   "execution_count": 186,
   "metadata": {},
   "outputs": [],
   "source": [
    "import os\n",
    "root_dir = '..'\n",
    "games_fn = os.path.join(root_dir, '2019-05-02.csv')\n",
    "details_fn = os.path.join(root_dir, 'games_detailed_info.csv')\n",
    "reviews_fn = os.path.join(root_dir, 'bgg-13m-reviews.csv')\n",
    "placeholder_img_url = 'https://via.placeholder.com/150x150?text=No+Image'"
   ]
  },
  {
   "cell_type": "code",
   "execution_count": 187,
   "metadata": {},
   "outputs": [],
   "source": [
    "def print_nan_stat(df):\n",
    "    for c in df.columns.values:\n",
    "        vals = df[[c]]\n",
    "        num_na = int(vals.isna().sum())\n",
    "        if num_na > 0:\n",
    "            print('{}: {} NaN values'.format(c, num_na))"
   ]
  },
  {
   "cell_type": "code",
   "execution_count": 188,
   "metadata": {
    "scrolled": false
   },
   "outputs": [
    {
     "name": "stdout",
     "output_type": "stream",
     "text": [
      "1. Gloomhaven (2017) -- 0\n",
      "2. Pandemic Legacy: Season 1 (2015) -- 1\n",
      "3. Through the Ages: A New Story of Civilization (2015) -- 2\n",
      "\r\n",
      "[3439, 'HeroClix', 2002, 1922, 6.5, 2261, 'https://via.placeholder.com/150x150?text=No+Image']\n"
     ]
    }
   ],
   "source": [
    "games = pd.read_csv(games_fn)\n",
    "#games = games.set_index('ID') # don't do this\n",
    "games = games.drop(columns=['Bayes average', 'URL'])\n",
    "# handle NaN values that don't affect the ML model\n",
    "games['Thumbnail'] = games['Thumbnail'].fillna(placeholder_img_url)\n",
    "\n",
    "# GET /boardgame/ \n",
    "#  display:  Rank, Thumbnail, Name, Year \n",
    "#  optional: (Average, Users rated)\n",
    "#  argument for other URLs: ID\n",
    "#  (Rank can be inferred from the Average so you could argue its useless)\n",
    "#  (list already sorted by Rank, ascending)\n",
    "\n",
    "# [TEST ONLY]\n",
    "# example iteration for generating / paginating the webpage\n",
    "for i, row in games.head(3).iterrows():\n",
    "    print(\"{}. {} ({}) -- {}\".format(row['Rank'], row['Name'], row['Year'], i))\n",
    "#print(\"\\r\\n{}\".format(games.loc[3439].tolist()))  # needs set_index to be applied\n",
    "print(\"\\r\\n{}\".format(games[games['ID']==3439].iloc[0].tolist()))  # image URL originally NaN"
   ]
  },
  {
   "cell_type": "code",
   "execution_count": 189,
   "metadata": {},
   "outputs": [
    {
     "name": "stdout",
     "output_type": "stream",
     "text": [
      "NaN stats below:\n"
     ]
    }
   ],
   "source": [
    "print(\"NaN stats below:\") # [TEST ONLY]\n",
    "print_nan_stat(games)"
   ]
  },
  {
   "cell_type": "code",
   "execution_count": 190,
   "metadata": {},
   "outputs": [
    {
     "data": {
      "text/plain": [
       "[{'ID': 161936,\n",
       "  'Name': 'Pandemic Legacy: Season 1',\n",
       "  'Year': 2015,\n",
       "  'Rank': 2,\n",
       "  'Average': 8.64,\n",
       "  'Users rated': 30921,\n",
       "  'Thumbnail': 'https://cf.geekdo-images.com/micro/img/KbAKyhbG4qab4r-A_pBjUGvgal0=/fit-in/64x64/pic2452831.png'},\n",
       " {'ID': 182028,\n",
       "  'Name': 'Through the Ages: A New Story of Civilization',\n",
       "  'Year': 2015,\n",
       "  'Rank': 3,\n",
       "  'Average': 8.53,\n",
       "  'Users rated': 15551,\n",
       "  'Thumbnail': 'https://cf.geekdo-images.com/micro/img/APvZ_BYOt4ElpIXVl7i6wUp2BvM=/fit-in/64x64/pic2663291.jpg'}]"
      ]
     },
     "execution_count": 190,
     "metadata": {},
     "output_type": "execute_result"
    }
   ],
   "source": [
    "# get JSON dict of N entries (for pagination, or None for all) starting from Nth entry\n",
    "# args: dataframe, starting row index, number of rows, return json or dict?, list of keys to convert val strings to list\n",
    "# retval: list of dicts, where each dict is 1 row\n",
    "def get_json_entries(df, start_pos=None, num_rows=None, to_json=True, keyval_list=[]):\n",
    "    if start_pos == None:\n",
    "        start_pos = 0\n",
    "    end_pos = len(df.index) if (num_rows == None) else min(start_pos + num_rows, len(df.index))\n",
    "    selected = df.iloc[start_pos : end_pos].replace({pd.np.nan: None})\n",
    "    # all NaN values to be converted to None (client is pure Python)\n",
    "    # all specified keys to have their vals become Python lists\n",
    "    row_entries = selected.to_dict(orient='records')\n",
    "    if len(keyval_list) > 0:\n",
    "        for i in range(len(row_entries)): # row\n",
    "            for key in keyval_list: # specified column (key)\n",
    "                if row_entries[i][key] != None: # null or list\n",
    "                    row_entries[i][key] = ast.literal_eval(row_entries[i][key])\n",
    "    return json.dumps(row_entries) if to_json else row_entries\n",
    "\n",
    "# [TEST ONLY]\n",
    "get_json_entries(games,1,2,False)    # note: rank starts from 1, start_pos starts from 0"
   ]
  },
  {
   "cell_type": "code",
   "execution_count": 200,
   "metadata": {
    "scrolled": true
   },
   "outputs": [
    {
     "name": "stdout",
     "output_type": "stream",
     "text": [
      "Category: 184 NaN values\n",
      "Description: 1 NaN values\n",
      "Expansion: 13001 NaN values\n",
      "Mechanic: 1564 NaN values\n",
      "\n"
     ]
    },
    {
     "data": {
      "text/plain": [
       "'{\"ID\": 161936, \"Name\": \"Pandemic Legacy: Season 1\", \"Publisher\": [\"Z-Man Games, Inc.\", \"Asterion Press\", \"Devir\", \"Filosofia \\\\u00c9ditions\", \"G\\\\u00e9m Klub Kft.\", \"Hobby Japan\", \"Jolly Thinkers\", \"Korea Boardgames co., Ltd.\", \"Lacerta\", \"Lifestyle Boardgames Ltd\", \"MINDOK\"], \"Category\": [\"Environmental\", \"Medical\"], \"Min players\": 2, \"Max players\": 4, \"Min age\": 13, \"Min playtime\": 60, \"Description\": \"Pandemic Legacy is a co-operative campaign game, with an overarching story-arc played through 12-24 sessions, depending on how well your group does at the game. At the beginning, the game starts very similar to basic Pandemic, in which your team of disease-fighting specialists races against the clock to travel around the world, treating disease hotspots while researching cures for each of four plagues before they get out of hand.&#10;&#10;During a player\\'s turn, they have four actions available, with which they may travel around in the world in various ways (sometimes needing to discard a card), build structures like research stations, treat diseases (removing one cube from the board; if all cubes of a color have been removed, the disease has been eradicated), trade cards with other players, or find a cure for a disease (requiring five cards of the same color to be discarded while at a research station). Each player has a unique role with special abilities to help them at these actions.&#10;&#10;After a player has taken their actions, they draw two cards. These cards can include epidemic cards, which will place new disease cubes on the board, and can lead to an outbreak, spreading disease cubes even further. Outbreaks additionally increase the panic level of a city, making that city more expensive to travel to.&#10;&#10;Each month in the game, you have two chances to achieve that month\\'s objectives. If you succeed, you win and immediately move on to the next month. If you fail, you have a second chance, with more funding for beneficial event cards.&#10;&#10;During the campaign, new rules and components will be introduced. These will sometimes require you to permanently alter the components of the game; this includes writing on cards, ripping up cards, and placing permanent stickers on components. Your characters can gain new skills, or detrimental effects. A character can even be lost entirely, at which point it\\'s no longer available for play.&#10;&#10;Part of the Pandemic series&#10;&#10;\", \"Expansion\": null, \"Mechanic\": [\"Action Point Allowance System\", \"Cooperative Play\", \"Hand Management\", \"Point to Point Movement\", \"Set Collection\", \"Trading\", \"Variable Player Powers\"], \"Thumbnail\": \"https://cf.geekdo-images.com/original/img/P_SwsOtPLqgk2ScCgI2YrI9Rg6I=/0x0/pic2452831.png\"}'"
      ]
     },
     "execution_count": 200,
     "metadata": {},
     "output_type": "execute_result"
    }
   ],
   "source": [
    "# GET /board_game/id\n",
    "#\n",
    "details = pd.read_csv(details_fn)\n",
    "#print(details.columns)\n",
    "details = details[['id','primary','boardgamepublisher','boardgamecategory','minplayers','maxplayers','minage','minplaytime','description','boardgameexpansion','boardgamemechanic','image']]\n",
    "details.columns = ['ID','Name',   'Publisher',         'Category',         'Min players','Max players','Min age','Min playtime','Description','Expansion',     'Mechanic',         'Thumbnail']\n",
    "# handle NaN values that don't affect the ML model\n",
    "details['Thumbnail'] = details['Thumbnail'].fillna(placeholder_img_url)\n",
    "details_listcat = ['Publisher', 'Category', 'Expansion', 'Mechanic']\n",
    "\n",
    "# [TEST ONLY]\n",
    "print_nan_stat(details) \n",
    "#details[details['Name']=='Dominion']\n",
    "#details[details['Name']=='Dominion'].to_dict('record')\n",
    "#games.sort_values(by=['ID']).head(13)\n",
    "print(\"\")\n",
    "\n",
    "# extract a single row from 'details' as JSON\n",
    "# (function has been designed to allow for selection of multiple rows)\n",
    "ex = get_json_entries(details[details.isnull().any(axis=1)], 0, 1, False, details_listcat)[0]\n",
    "json.dumps(ex)\n",
    "\n",
    "#len(get_json_entries(details, None, None, False, details_listcat)) # check for crashes"
   ]
  },
  {
   "cell_type": "code",
   "execution_count": null,
   "metadata": {},
   "outputs": [],
   "source": [
    "# GET /usage"
   ]
  },
  {
   "cell_type": "code",
   "execution_count": null,
   "metadata": {},
   "outputs": [],
   "source": []
  }
 ],
 "metadata": {
  "kernelspec": {
   "display_name": "Python 3",
   "language": "python",
   "name": "python3"
  },
  "language_info": {
   "codemirror_mode": {
    "name": "ipython",
    "version": 3
   },
   "file_extension": ".py",
   "mimetype": "text/x-python",
   "name": "python",
   "nbconvert_exporter": "python",
   "pygments_lexer": "ipython3",
   "version": "3.7.4"
  }
 },
 "nbformat": 4,
 "nbformat_minor": 2
}
