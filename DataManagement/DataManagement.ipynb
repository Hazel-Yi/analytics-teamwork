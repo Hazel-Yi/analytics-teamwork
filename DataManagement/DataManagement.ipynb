{
 "cells": [
  {
   "cell_type": "code",
   "execution_count": 30,
   "metadata": {},
   "outputs": [],
   "source": [
    "import pandas as pd"
   ]
  },
  {
   "cell_type": "code",
   "execution_count": 31,
   "metadata": {},
   "outputs": [],
   "source": [
    "import os\n",
    "root_dir = '..'\n",
    "game_fn = os.path.join(root_dir, '2019-05-02.csv')\n",
    "game_details_fn = os.path.join(root_dir, 'games_detailed_info.csv')\n",
    "review_fn = os.path.join(root_dir, 'bgg-13m-reviews.csv')"
   ]
  },
  {
   "cell_type": "code",
   "execution_count": 32,
   "metadata": {},
   "outputs": [],
   "source": [
    "def print_nan_stat(df):\n",
    "    for c in df.columns.values:\n",
    "        vals = df[[c]]\n",
    "        num_na = int(vals.isna().sum())\n",
    "        if num_na > 0:\n",
    "            print('{}: {} NaN values'.format(c, num_na))"
   ]
  },
  {
   "cell_type": "code",
   "execution_count": 38,
   "metadata": {
    "scrolled": false
   },
   "outputs": [
    {
     "name": "stdout",
     "output_type": "stream",
     "text": [
      "1. Gloomhaven (2017) -- 174430\n",
      "2. Pandemic Legacy: Season 1 (2015) -- 161936\n",
      "3. Through the Ages: A New Story of Civilization (2015) -- 182028\n",
      "\n",
      "Thumbnail: 45 NaN values\n",
      "\r\n",
      "['HeroClix', 2002, 1922, 6.5, 2261, nan]\n"
     ]
    }
   ],
   "source": [
    "games = pd.read_csv(game_fn)\n",
    "games = games.set_index('ID')\n",
    "games = games.drop(columns=['Bayes average', 'URL'])\n",
    "\n",
    "# GET /boardgame/ \n",
    "#  display:  Rank, Thumbnail, Name, Year \n",
    "#  optional: (Average, Users rated)\n",
    "#  argument: ID\n",
    "#  (Rank can be inferred from the Average so you could argue its useless)\n",
    "#  (list already sorted by Rank, ascending)\n",
    "\n",
    "# example iteration for generating / paginating the webpage\n",
    "for i, row in games.head(2).iterrows():\n",
    "    print(\"{}. {} ({}) -- {}\".format(row['Rank'], row['Name'], row['Year'], i))\n",
    "print(\"\")\n",
    "print_nan_stat(games)\n",
    "#print(\"\\r\\n{}\".format(games.loc[3439].tolist()))  # method to extract a single row, given ID"
   ]
  },
  {
   "cell_type": "code",
   "execution_count": null,
   "metadata": {},
   "outputs": [],
   "source": [
    "# get JSON of N entries (for pagination) starting from Nth entry"
   ]
  }
 ],
 "metadata": {
  "kernelspec": {
   "display_name": "Python 3",
   "language": "python",
   "name": "python3"
  },
  "language_info": {
   "codemirror_mode": {
    "name": "ipython",
    "version": 3
   },
   "file_extension": ".py",
   "mimetype": "text/x-python",
   "name": "python",
   "nbconvert_exporter": "python",
   "pygments_lexer": "ipython3",
   "version": "3.7.4"
  }
 },
 "nbformat": 4,
 "nbformat_minor": 2
}
